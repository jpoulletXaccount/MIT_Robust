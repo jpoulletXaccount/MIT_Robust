{
 "cells": [
  {
   "cell_type": "code",
   "execution_count": 5,
   "metadata": {},
   "outputs": [
    {
     "ename": "MethodError",
     "evalue": "MethodError: no method matching add_constraint!(::ConstraintSet, ::getfield(Main, Symbol(\"##39#40\")))\nClosest candidates are:\n  add_constraint!(::ConstraintSet, !Matched::C<:Constraint) where C<:Constraint at /Users/jpoullet/Documents/MIT/Courses/15.094 Robust optimization/RobustProject/src/constraints.jl:67",
     "output_type": "error",
     "traceback": [
      "MethodError: no method matching add_constraint!(::ConstraintSet, ::getfield(Main, Symbol(\"##39#40\")))\nClosest candidates are:\n  add_constraint!(::ConstraintSet, !Matched::C<:Constraint) where C<:Constraint at /Users/jpoullet/Documents/MIT/Courses/15.094 Robust optimization/RobustProject/src/constraints.jl:67",
      "",
      "Stacktrace:",
      " [1] top-level scope at In[5]:13"
     ]
    }
   ],
   "source": [
    "include(\"../read.jl\")\n",
    "include(\"../constraints.jl\")\n",
    "include(\"../partitions.jl\")\n",
    "include(\"../problem.jl\")\n",
    "include(\"../active.jl\")\n",
    "\n",
    "jobs = build_jobs(\"/Users/jpoullet/Documents/MIT/Courses/15.094 Robust optimization/RobustProject/data/example.csv\", [0, 0])\n",
    "# jobs = jobs[2:3, :]\n",
    "# jobs[:ID] = 1:nrow(jobs)\n",
    "\n",
    "# Box constraints on z.\n",
    "base = ConstraintSet()\n",
    "add_constraint!(base, z -> norm(z, Inf) - 100)\n",
    "add_constraint!(base, z -> norm(z, 1) - 100)"
   ]
  },
  {
   "cell_type": "code",
   "execution_count": 216,
   "metadata": {},
   "outputs": [],
   "source": [
    "# partitions = [base]\n",
    "\n",
    "num_workers = 2\n",
    "cost_backup = 10\n",
    "\n",
    "# Get index parameters.\n",
    "num_intervals = maximum(jobs[:INTERVAL])\n",
    "num_jobs = nrow(jobs)\n",
    "num_partitions = length(partitions)\n",
    "\n",
    "# Big M parameter.\n",
    "M = 1e9\n",
    "\n",
    "# Create model.\n",
    "m = RobustModel(solver=GurobiSolver(OutputFlag=0))\n",
    "\n",
    "### Static\n",
    "\n",
    "# Epigraph variable.\n",
    "@variable(m, r)\n",
    "\n",
    "# Assignment variables for workers to jobs.\n",
    "@variable(m, x[1:num_workers, 1:num_jobs], Bin)\n",
    "\n",
    "# Backup agent variables.\n",
    "@variable(m, z[1:num_jobs], Bin)\n",
    "\n",
    "## Adjustable\n",
    "\n",
    "# Workers to jobs.\n",
    "@variable(m, x_u[1:num_partitions, 1:num_workers, 2:num_intervals, 1:num_jobs], Bin)\n",
    "\n",
    "# Backup agents.\n",
    "@variable(m, z_u[1:num_partitions, 2:num_intervals, 1:num_jobs], Bin)\n",
    "\n",
    "# Variables to capture clashes.\n",
    "@variable(m, y_u[1:num_partitions, 1:num_jobs, 1:num_jobs], Bin)\n",
    "\n",
    "## Uncertainty\n",
    "\n",
    "# One uncertain vector for each partition.\n",
    "@uncertain(m, u[1:num_partitions, 1:num_jobs])\n",
    "for p in 1:num_partitions\n",
    "    apply_constraints(m, u[p, :], base)\n",
    "    apply_constraints(m, u[p, :], partitions[p])\n",
    "end"
   ]
  },
  {
   "cell_type": "code",
   "execution_count": 217,
   "metadata": {},
   "outputs": [],
   "source": [
    "initial_jobs = jobs_not_in_interval(jobs, 1)\n",
    "@constraint(m, z[initial_jobs] .== 0)\n",
    "\n",
    "for i in 1:num_workers\n",
    "\n",
    "    # Jobs in interval 1 are static.\n",
    "    @constraint(m, x[i, initial_jobs] .== 0)    \n",
    "\n",
    "    # Remaining jobs are adjustable.\n",
    "    for t in 2:num_intervals, p in 1:num_partitions\n",
    "        interval_jobs = jobs_not_in_interval(jobs, t)\n",
    "        @constraint(m, x_u[p, i, t, :][interval_jobs] .== 0)\n",
    "        @constraint(m, z_u[p, t, :][interval_jobs] .== 0)\n",
    "    end\n",
    "end"
   ]
  },
  {
   "cell_type": "code",
   "execution_count": 218,
   "metadata": {},
   "outputs": [],
   "source": [
    "# Objective function.\n",
    "@objective(m, Min, r + cost_backup * sum(z[jobs_in_interval(jobs, 1)]))\n",
    "for p in 1:num_partitions\n",
    "    @constraint(m,  r >= cost_backup * sum(sum(z_u[p, t, :][jobs_in_interval(jobs, t)] for t in 2:num_intervals)))\n",
    "end"
   ]
  },
  {
   "cell_type": "code",
   "execution_count": 219,
   "metadata": {},
   "outputs": [],
   "source": [
    "# Constraints covertness t = 1.\n",
    "for j in jobs_in_interval(jobs, 1)\n",
    "    @constraint(m, sum(x[i, j] for i in 1:num_workers) + z[j] == 1)\n",
    "end"
   ]
  },
  {
   "cell_type": "code",
   "execution_count": 220,
   "metadata": {},
   "outputs": [],
   "source": [
    "# Constraints covertness t > 1.\n",
    "for t in 2:num_intervals, p in 1:num_partitions\n",
    "    for j in jobs_in_interval(jobs, t)\n",
    "        @constraint(m, sum(x_u[p, i, t, j] for i in 1:num_workers) + z_u[p, t, j] == 1)\n",
    "    end\n",
    "end"
   ]
  },
  {
   "cell_type": "code",
   "execution_count": 222,
   "metadata": {},
   "outputs": [],
   "source": [
    "# Constraint chaining. Need to check splitting of uncertainty.\n",
    "for j in 1:num_jobs, k in 1:num_jobs, p in 1:num_partitions\n",
    "    if j != k\n",
    "        j_end = jobs[j, :END]\n",
    "        k_start = jobs[k, :START]\n",
    "        @constraint(m, -M * y_u[p, j, k] <= k_start + u[p, k] - (j_end + u[p, j]))\n",
    "        # @constraint(m, k_start + u[k] - (j_end + u[j]) <= M * (1 - y_u[j, k]))\n",
    "    end\n",
    "end\n",
    "\n",
    "# start_1 = jobs[1, :START]\n",
    "# start_2 = jobs[2, :START]\n",
    "# end_1 = jobs[1, :END]\n",
    "# end_2 = jobs[2, :END]\n",
    "# @constraint(m, -M * y_u[1, 1, 2] <= start_2 + u[1, 2] - (end_1 + u[1, 1]))\n",
    "# @constraint(m, -M * y_u[1, 2, 1] <= start_1 + u[1, 1] - (end_2 + u[1, 2]))"
   ]
  },
  {
   "cell_type": "code",
   "execution_count": 223,
   "metadata": {},
   "outputs": [],
   "source": [
    "# No clash for initial jobs with any other jobs.\n",
    "for i in 1:num_workers\n",
    "    for j in 1:num_jobs, k in (j + 1):num_jobs, p in 1:num_partitions\n",
    "\n",
    "        # Clashes of initial jobs with other initial jobs.\n",
    "        @constraint(m, x[i, j] + x[i, k] <= 3 - (y_u[p, j, k] + y_u[p, k, j]))\n",
    "\n",
    "        # Clashes of initial jobs with adjustable jobs.\n",
    "        for t in 2:num_intervals\n",
    "            @constraint(m, x[i, j] + x_u[p, i, t, k] <= 3 - (y_u[p, j, k] + y_u[p, k, j]))\n",
    "        end\n",
    "    end\n",
    "end"
   ]
  },
  {
   "cell_type": "code",
   "execution_count": 224,
   "metadata": {},
   "outputs": [],
   "source": [
    "# No clash for adjustable jobs.\n",
    "for i in 1:num_workers\n",
    "    for t in 2:num_intervals, t_bar in t:num_intervals, p in 1:num_partitions\n",
    "        for j in 1:num_jobs, k in (j + 1):num_jobs\n",
    "            @constraint(m, x_u[p, i, t, j] + x_u[p, i, t_bar, k] <= 3 - (y_u[p, j, k] + y_u[p, k, j]))\n",
    "        end\n",
    "    end\n",
    "end"
   ]
  },
  {
   "cell_type": "code",
   "execution_count": 225,
   "metadata": {},
   "outputs": [
    {
     "name": "stdout",
     "output_type": "stream",
     "text": [
      "Academic license - for non-commercial use only\r\n"
     ]
    },
    {
     "data": {
      "text/plain": [
       ":Optimal"
      ]
     },
     "execution_count": 225,
     "metadata": {},
     "output_type": "execute_result"
    }
   ],
   "source": [
    "solve(m)"
   ]
  },
  {
   "cell_type": "code",
   "execution_count": 226,
   "metadata": {},
   "outputs": [
    {
     "data": {
      "text/plain": [
       "0.0"
      ]
     },
     "execution_count": 226,
     "metadata": {},
     "output_type": "execute_result"
    }
   ],
   "source": [
    "getobjectivevalue(m)"
   ]
  },
  {
   "cell_type": "code",
   "execution_count": 179,
   "metadata": {},
   "outputs": [
    {
     "data": {
      "text/plain": [
       "1×3×3 Array{Float64,3}:\n",
       "[:, :, 1] =\n",
       " -0.0  1.0  1.0\n",
       "\n",
       "[:, :, 2] =\n",
       " 1.0  -0.0  1.0\n",
       "\n",
       "[:, :, 3] =\n",
       " 1.0  1.0  -0.0"
      ]
     },
     "execution_count": 179,
     "metadata": {},
     "output_type": "execute_result"
    }
   ],
   "source": [
    "getvalue(y_u)"
   ]
  },
  {
   "cell_type": "code",
   "execution_count": 180,
   "metadata": {},
   "outputs": [
    {
     "data": {
      "text/plain": [
       "x_u: 4 dimensions:\n",
       "[1,:,:,:]\n",
       "  [1,1,:,:]\n",
       "    [1,1,2,:]\n",
       "      [1,1,2,1] = 0.0\n",
       "      [1,1,2,2] = 1.0\n",
       "      [1,1,2,3] = -0.0\n",
       "  [1,2,:,:]\n",
       "    [1,2,2,:]\n",
       "      [1,2,2,1] = 0.0\n",
       "      [1,2,2,2] = -0.0\n",
       "      [1,2,2,3] = 1.0"
      ]
     },
     "execution_count": 180,
     "metadata": {},
     "output_type": "execute_result"
    }
   ],
   "source": [
    "getvalue(x_u)"
   ]
  },
  {
   "cell_type": "code",
   "execution_count": 181,
   "metadata": {},
   "outputs": [
    {
     "data": {
      "text/plain": [
       "z_u: 3 dimensions:\n",
       "[1,:,:]\n",
       "  [1,2,:]\n",
       "    [1,2,1] = 1.0\n",
       "    [1,2,2] = -0.0\n",
       "    [1,2,3] = -0.0"
      ]
     },
     "execution_count": 181,
     "metadata": {},
     "output_type": "execute_result"
    }
   ],
   "source": [
    "getvalue(z_u)"
   ]
  },
  {
   "cell_type": "code",
   "execution_count": 182,
   "metadata": {},
   "outputs": [
    {
     "data": {
      "text/plain": [
       "([-0.0, -0.0, -0.0], z_u: 3 dimensions:\n",
       "[1,:,:]\n",
       "  [1,2,:]\n",
       "    [1,2,1] = 1.0\n",
       "    [1,2,2] = -0.0\n",
       "    [1,2,3] = -0.0, [-0.0 -0.0 -0.0; -0.0 -0.0 -0.0], x_u: 4 dimensions:\n",
       "[1,:,:,:]\n",
       "  [1,1,:,:]\n",
       "    [1,1,2,:]\n",
       "      [1,1,2,1] = 0.0\n",
       "      [1,1,2,2] = 1.0\n",
       "      [1,1,2,3] = -0.0\n",
       "  [1,2,:,:]\n",
       "    [1,2,2,:]\n",
       "      [1,2,2,1] = 0.0\n",
       "      [1,2,2,2] = -0.0\n",
       "      [1,2,2,3] = 1.0, [-0.0 1.0 1.0]\n",
       "\n",
       "[1.0 -0.0 1.0]\n",
       "\n",
       "[1.0 1.0 -0.0], 10.0)"
      ]
     },
     "execution_count": 182,
     "metadata": {},
     "output_type": "execute_result"
    }
   ],
   "source": [
    "z, z_u, x, x_u, y_u, r = getvalue(z), getvalue(z_u), getvalue(x), getvalue(x_u), getvalue(y_u), getvalue(r)"
   ]
  },
  {
   "cell_type": "code",
   "execution_count": 199,
   "metadata": {},
   "outputs": [
    {
     "name": "stdout",
     "output_type": "stream",
     "text": [
      "Academic license - for non-commercial use only\r\n",
      "Academic license - for non-commercial use only\r\n",
      "Academic license - for non-commercial use only\r\n",
      "Academic license - for non-commercial use only\r\n",
      "Academic license - for non-commercial use only\r\n",
      "Academic license - for non-commercial use only\r\n"
     ]
    }
   ],
   "source": [
    "points = []\n",
    "\n",
    "for (p, partition) in enumerate(partitions)\n",
    "\n",
    "    partition_points = []\n",
    "\n",
    "    for j in 1:num_jobs, k in 1:num_jobs\n",
    "        \n",
    "        if j != k\n",
    "            m = Model(solver=GurobiSolver(OutputFlag=0))\n",
    "\n",
    "            @variable(m, -100 <= u[1:num_jobs] <= 100)\n",
    "            @variable(m, v[1:num_jobs])\n",
    "            @constraint(m, v .>= u)\n",
    "            @constraint(m, v .>= -u)\n",
    "            @constraint(m, sum(v) <= 100)\n",
    "\n",
    "            j_end = jobs[j, :END]\n",
    "            k_start = jobs[k, :START]\n",
    "\n",
    "            @objective(m, Min, k_start + u[k] - (j_end + u[j]))\n",
    "\n",
    "            solve(m)\n",
    "            if getobjectivevalue(m) < 0\n",
    "                push!(partition_points, getvalue(u))\n",
    "            end\n",
    "        end\n",
    "    end\n",
    "\n",
    "    push!(points, transpose(hcat(partition_points...)))\n",
    "\n",
    "end"
   ]
  },
  {
   "cell_type": "code",
   "execution_count": 210,
   "metadata": {},
   "outputs": [
    {
     "data": {
      "text/plain": [
       "1-element Array{Any,1}:\n",
       " [0.0 -100.0 0.0; 0.0 0.0 -100.0; … ; 0.0 0.0 100.0; 0.0 0.0 100.0]"
      ]
     },
     "execution_count": 210,
     "metadata": {},
     "output_type": "execute_result"
    }
   ],
   "source": [
    "p = points\n"
   ]
  },
  {
   "cell_type": "code",
   "execution_count": 211,
   "metadata": {},
   "outputs": [
    {
     "data": {
      "text/plain": [
       "6×3 Transpose{Float64,Array{Float64,2}}:\n",
       " 0.0  -100.0     0.0\n",
       " 0.0     0.0  -100.0\n",
       " 0.0   100.0     0.0\n",
       " 0.0     0.0  -100.0\n",
       " 0.0     0.0   100.0\n",
       " 0.0     0.0   100.0"
      ]
     },
     "execution_count": 211,
     "metadata": {},
     "output_type": "execute_result"
    }
   ],
   "source": [
    "points = points[1]"
   ]
  },
  {
   "cell_type": "code",
   "execution_count": 214,
   "metadata": {},
   "outputs": [],
   "source": [
    "function max_margin(x, y)\n",
    "\n",
    "    # Compute value of affine function at midpoint between x and y.\n",
    "    alpha = dot(y - x, 0.5 * (x + y))\n",
    "\n",
    "    # Return function in the required form.\n",
    "    return z -> dot(y - x, z) - alpha\n",
    "end\n",
    "\n",
    "# Get number of points and dimension of space.\n",
    "m, n = size(points)\n",
    "\n",
    "partitions = [ConstraintSet() for i in 1:m]\n",
    "\n",
    "for i in 1:(m - 1), j in (i + 1):m\n",
    "        \n",
    "    x = points[i, :]\n",
    "    y = points[j, :]\n",
    "\n",
    "    add_constraint!(partitions[i], max_margin(x, y))\n",
    "    add_constraint!(partitions[j], max_margin(y, x))\n",
    "\n",
    "end"
   ]
  },
  {
   "cell_type": "code",
   "execution_count": 215,
   "metadata": {},
   "outputs": [
    {
     "data": {
      "text/plain": [
       "6-element Array{ConstraintSet,1}:\n",
       " ConstraintSet(Function[##205#206{Array{Float64,1},Array{Float64,1},Float64}([0.0, -100.0, 0.0], [0.0, 0.0, -100.0], 0.0), ##205#206{Array{Float64,1},Array{Float64,1},Float64}([0.0, -100.0, 0.0], [0.0, 100.0, 0.0], 0.0), ##205#206{Array{Float64,1},Array{Float64,1},Float64}([0.0, -100.0, 0.0], [0.0, 0.0, -100.0], 0.0), ##205#206{Array{Float64,1},Array{Float64,1},Float64}([0.0, -100.0, 0.0], [0.0, 0.0, 100.0], 0.0), ##205#206{Array{Float64,1},Array{Float64,1},Float64}([0.0, -100.0, 0.0], [0.0, 0.0, 100.0], 0.0)])\n",
       " ConstraintSet(Function[##205#206{Array{Float64,1},Array{Float64,1},Float64}([0.0, 0.0, -100.0], [0.0, -100.0, 0.0], 0.0), ##205#206{Array{Float64,1},Array{Float64,1},Float64}([0.0, 0.0, -100.0], [0.0, 100.0, 0.0], 0.0), ##205#206{Array{Float64,1},Array{Float64,1},Float64}([0.0, 0.0, -100.0], [0.0, 0.0, -100.0], 0.0), ##205#206{Array{Float64,1},Array{Float64,1},Float64}([0.0, 0.0, -100.0], [0.0, 0.0, 100.0], 0.0), ##205#206{Array{Float64,1},Array{Float64,1},Float64}([0.0, 0.0, -100.0], [0.0, 0.0, 100.0], 0.0)])\n",
       " ConstraintSet(Function[##205#206{Array{Float64,1},Array{Float64,1},Float64}([0.0, 100.0, 0.0], [0.0, -100.0, 0.0], 0.0), ##205#206{Array{Float64,1},Array{Float64,1},Float64}([0.0, 100.0, 0.0], [0.0, 0.0, -100.0], 0.0), ##205#206{Array{Float64,1},Array{Float64,1},Float64}([0.0, 100.0, 0.0], [0.0, 0.0, -100.0], 0.0), ##205#206{Array{Float64,1},Array{Float64,1},Float64}([0.0, 100.0, 0.0], [0.0, 0.0, 100.0], 0.0), ##205#206{Array{Float64,1},Array{Float64,1},Float64}([0.0, 100.0, 0.0], [0.0, 0.0, 100.0], 0.0)])    \n",
       " ConstraintSet(Function[##205#206{Array{Float64,1},Array{Float64,1},Float64}([0.0, 0.0, -100.0], [0.0, -100.0, 0.0], 0.0), ##205#206{Array{Float64,1},Array{Float64,1},Float64}([0.0, 0.0, -100.0], [0.0, 0.0, -100.0], 0.0), ##205#206{Array{Float64,1},Array{Float64,1},Float64}([0.0, 0.0, -100.0], [0.0, 100.0, 0.0], 0.0), ##205#206{Array{Float64,1},Array{Float64,1},Float64}([0.0, 0.0, -100.0], [0.0, 0.0, 100.0], 0.0), ##205#206{Array{Float64,1},Array{Float64,1},Float64}([0.0, 0.0, -100.0], [0.0, 0.0, 100.0], 0.0)])\n",
       " ConstraintSet(Function[##205#206{Array{Float64,1},Array{Float64,1},Float64}([0.0, 0.0, 100.0], [0.0, -100.0, 0.0], 0.0), ##205#206{Array{Float64,1},Array{Float64,1},Float64}([0.0, 0.0, 100.0], [0.0, 0.0, -100.0], 0.0), ##205#206{Array{Float64,1},Array{Float64,1},Float64}([0.0, 0.0, 100.0], [0.0, 100.0, 0.0], 0.0), ##205#206{Array{Float64,1},Array{Float64,1},Float64}([0.0, 0.0, 100.0], [0.0, 0.0, -100.0], 0.0), ##205#206{Array{Float64,1},Array{Float64,1},Float64}([0.0, 0.0, 100.0], [0.0, 0.0, 100.0], 0.0)])    \n",
       " ConstraintSet(Function[##205#206{Array{Float64,1},Array{Float64,1},Float64}([0.0, 0.0, 100.0], [0.0, -100.0, 0.0], 0.0), ##205#206{Array{Float64,1},Array{Float64,1},Float64}([0.0, 0.0, 100.0], [0.0, 0.0, -100.0], 0.0), ##205#206{Array{Float64,1},Array{Float64,1},Float64}([0.0, 0.0, 100.0], [0.0, 100.0, 0.0], 0.0), ##205#206{Array{Float64,1},Array{Float64,1},Float64}([0.0, 0.0, 100.0], [0.0, 0.0, -100.0], 0.0), ##205#206{Array{Float64,1},Array{Float64,1},Float64}([0.0, 0.0, 100.0], [0.0, 0.0, 100.0], 0.0)])    "
      ]
     },
     "execution_count": 215,
     "metadata": {},
     "output_type": "execute_result"
    }
   ],
   "source": [
    "partitions"
   ]
  },
  {
   "cell_type": "code",
   "execution_count": 221,
   "metadata": {},
   "outputs": [
    {
     "data": {
      "text/plain": [
       "6"
      ]
     },
     "execution_count": 221,
     "metadata": {},
     "output_type": "execute_result"
    }
   ],
   "source": [
    "num_partitions"
   ]
  },
  {
   "cell_type": "code",
   "execution_count": 37,
   "metadata": {},
   "outputs": [
    {
     "data": {
      "text/plain": [
       "Problem(3×9 DataFrame. Omitted printing of 2 columns\n",
       "│ Row │ DATE     │ FLIGHT_NUM │ WAY     │ TEAM    │ NUMBER │ START   │ END     │\n",
       "│     │ \u001b[90mInt64⍰\u001b[39m   │ \u001b[90mInt64⍰\u001b[39m     │ \u001b[90mString⍰\u001b[39m │ \u001b[90mString⍰\u001b[39m │ \u001b[90mInt64⍰\u001b[39m │ \u001b[90mFloat64\u001b[39m │ \u001b[90mFloat64\u001b[39m │\n",
       "├─────┼──────────┼────────────┼─────────┼─────────┼────────┼─────────┼─────────┤\n",
       "│ 1   │ 20170620 │ 1          │ Arrival │ ASA     │ 3      │ 50.0    │ 150.0   │\n",
       "│ 2   │ 20170620 │ 2          │ Arrival │ POLY    │ 2      │ 233.333 │ 350.0   │\n",
       "│ 3   │ 20170620 │ 3          │ Arrival │ POLY    │ 1      │ 233.333 │ 350.0   │, 2, 10.0, 1.0e9, 3, 2)"
      ]
     },
     "execution_count": 37,
     "metadata": {},
     "output_type": "execute_result"
    }
   ],
   "source": [
    "include(\"../read.jl\")\n",
    "include(\"../constraints.jl\")\n",
    "include(\"../partitions.jl\")\n",
    "include(\"../problem.jl\")\n",
    "include(\"../active.jl\")\n",
    "\n",
    "jobs = build_jobs(\"/Users/jpoullet/Documents/MIT/Courses/15.094 Robust optimization/RobustProject/data/example.csv\", [0, 0])\n",
    "problem = Problem(jobs, 2, 10, 1e9)\n",
    "\n"
   ]
  },
  {
   "cell_type": "code",
   "execution_count": 7,
   "metadata": {},
   "outputs": [],
   "source": [
    "using JuMP, JuMPeR, Gurobi, LinearAlgebra"
   ]
  },
  {
   "cell_type": "code",
   "execution_count": 33,
   "metadata": {},
   "outputs": [
    {
     "data": {
      "text/plain": [
       "solve_partition_modelC (generic function with 1 method)"
      ]
     },
     "execution_count": 33,
     "metadata": {},
     "output_type": "execute_result"
    }
   ],
   "source": [
    "function solve_partition_modelC(problem::Problem, base::ConstraintSet, partitions::Array{ConstraintSet})\n",
    "\n",
    "    # Get problem data.\n",
    "    num_partitions = length(partitions)\n",
    "    jobs = problem.jobs\n",
    "    num_jobs = problem.num_jobs\n",
    "    num_workers = problem.num_workers\n",
    "    num_intervals = problem.num_intervals\n",
    "    cost_backup = problem.cost_backup\n",
    "    M = problem.M\n",
    "\n",
    "    # Create model.\n",
    "    m = RobustModel(solver=GurobiSolver(OutputFlag=0))\n",
    "\n",
    "    ### Static\n",
    "    \n",
    "    ## Uncertainty\n",
    "\n",
    "    # One uncertain vector for each partition.\n",
    "    @variable(m, u[1:num_partitions, 1:num_jobs])\n",
    "    for p in 1:num_partitions\n",
    "        apply_constraints!(m, u[p, :], base)\n",
    "        apply_constraints!(m, u[p, :], partitions[p])\n",
    "    end\n",
    "    \n",
    "    for con in m.linconstr\n",
    "        println(con)\n",
    "    end\n",
    "    # Epigraph variable.\n",
    "    @variable(m, r)\n",
    "\n",
    "    # Assignment variables for workers to jobs.\n",
    "    @variable(m, x[1:num_workers, 1:num_jobs], Bin)\n",
    "\n",
    "    # Backup agent variables.\n",
    "    @variable(m, z[1:num_jobs], Bin)\n",
    "\n",
    "    ## Adjustable\n",
    "\n",
    "    # Workers to jobs.\n",
    "    @variable(m, x_u[1:num_partitions, 1:num_workers, 2:num_intervals, 1:num_jobs], Bin)\n",
    "\n",
    "    # Backup agents.\n",
    "    @variable(m, z_u[1:num_partitions, 2:num_intervals, 1:num_jobs], Bin)\n",
    "\n",
    "    # Variables to capture clashes.\n",
    "    @variable(m, y_u[1:num_partitions, 1:num_jobs, 1:num_jobs], Bin)\n",
    " \n",
    "\n",
    "    # Constraint on the tasks not assigned during interval t.\n",
    "    initial_jobs = jobs_not_in_interval(jobs, 1)\n",
    "    @constraint(m, z[initial_jobs] .== 0)\n",
    "    for i in 1:num_workers\n",
    "\n",
    "        # Jobs in interval 1 are static.\n",
    "        @constraint(m, x[i, initial_jobs] .== 0)\n",
    "\n",
    "        # Remaining jobs are adjustable.\n",
    "        for t in 2:num_intervals, p in 1:num_partitions\n",
    "            interval_jobs = jobs_not_in_interval(jobs, t)\n",
    "            @constraint(m, x_u[p, i, t, :][interval_jobs] .== 0)\n",
    "            @constraint(m, z_u[p, t, :][interval_jobs] .== 0)\n",
    "        end\n",
    "    end\n",
    "\n",
    "    # Objective function.\n",
    "    @objective(m, Min, r + cost_backup * sum(z[jobs_in_interval(jobs, 1)]))\n",
    "    for p in 1:num_partitions\n",
    "        @constraint(m,  r >= cost_backup * sum(sum(z_u[p, t, :][jobs_in_interval(jobs, t)] for t in 2:num_intervals)))\n",
    "    end\n",
    "\n",
    "    # Convering constraints for first stage.\n",
    "    for j in jobs_in_interval(jobs, 1)\n",
    "        @constraint(m, sum(x[i, j] for i in 1:num_workers) + z[j] == 1)\n",
    "    end\n",
    "\n",
    "    # Covering constraints for adjustable stages.\n",
    "    for t in 2:num_intervals, p in 1:num_partitions\n",
    "        for j in jobs_in_interval(jobs, t)\n",
    "            @constraint(m, sum(x_u[p, i, t, j] for i in 1:num_workers) + z_u[p, t, j] == 1)\n",
    "        end\n",
    "    end\n",
    "\n",
    "    # Constraint chaining.\n",
    "    for j in 1:num_jobs, k in 1:num_jobs, p in 1:num_partitions\n",
    "        if j != k\n",
    "            j_end = jobs[j, :END]\n",
    "            k_start = jobs[k, :START]\n",
    "            @constraint(m, - M * y_u[p, j, k] <= k_start + u[p, k] - (j_end + u[p, j]))\n",
    "            # @constraint(m, k_start + u[k] - (j_end + u[j]) <= M * (1 - y_u[j, k]))\n",
    "        end\n",
    "    end\n",
    "\n",
    "    # No clash for initial jobs with any other jobs.\n",
    "    for i in 1:num_workers\n",
    "        for j in 1:num_jobs, k in (j + 1):num_jobs, p in 1:num_partitions\n",
    "\n",
    "            # Clashes of initial jobs with other initial jobs.\n",
    "            @constraint(m, x[i, j] + x[i, k] <= 3 - (y_u[p, j, k] + y_u[p, k, j]))\n",
    "\n",
    "            # Clashes of initial jobs with adjustable jobs.\n",
    "            for t in 2:num_intervals\n",
    "                @constraint(m, x[i, j] + x_u[p, i, t, k] <= 3 - (y_u[p, j, k] + y_u[p, k, j]))\n",
    "            end\n",
    "        end\n",
    "    end\n",
    "\n",
    "    # No clash for adjustable jobs.\n",
    "    for i in 1:num_workers\n",
    "        for t in 2:num_intervals, t_bar in t:num_intervals, p in 1:num_partitions\n",
    "            for j in 1:num_jobs, k in (j + 1):num_jobs\n",
    "                @constraint(m, x_u[p, i, t, j] + x_u[p, i, t_bar, k] <= 3 - (y_u[p, j, k] + y_u[p, k, j]))\n",
    "            end\n",
    "        end\n",
    "    end\n",
    "   \n",
    "    solve(m)\n",
    "    \n",
    "    return m\n",
    "end"
   ]
  },
  {
   "cell_type": "code",
   "execution_count": 88,
   "metadata": {},
   "outputs": [
    {
     "data": {
      "text/plain": [
       "solve_partition_model (generic function with 1 method)"
      ]
     },
     "execution_count": 88,
     "metadata": {},
     "output_type": "execute_result"
    }
   ],
   "source": [
    "function solve_partition_model(problem::Problem, base::ConstraintSet, partitions::Array{ConstraintSet})\n",
    "\n",
    "    # Get problem data.\n",
    "    num_partitions = length(partitions)\n",
    "    jobs = problem.jobs\n",
    "    num_jobs = problem.num_jobs\n",
    "    num_workers = problem.num_workers\n",
    "    num_intervals = problem.num_intervals\n",
    "    cost_backup = problem.cost_backup\n",
    "    M = 10000\n",
    "\n",
    "    # Create model.\n",
    "    m = RobustModel(solver=GurobiSolver(OutputFlag=0))\n",
    "\n",
    "    ### Static\n",
    "\n",
    "    # Epigraph variable.\n",
    "    @variable(m, r)\n",
    "\n",
    "    # Assignment variables for workers to jobs.\n",
    "    @variable(m, x[1:num_workers, 1:num_jobs], Bin)\n",
    "\n",
    "    # Backup agent variables.\n",
    "    @variable(m, z[1:num_jobs], Bin)\n",
    "\n",
    "    ## Adjustable\n",
    "\n",
    "    # Workers to jobs.\n",
    "    @variable(m, x_u[1:num_partitions, 1:num_workers, 2:num_intervals, 1:num_jobs], Bin)\n",
    "\n",
    "    # Backup agents.\n",
    "    @variable(m, z_u[1:num_partitions, 2:num_intervals, 1:num_jobs], Bin)\n",
    "\n",
    "    # Variables to capture clashes.\n",
    "    @variable(m, y_u[1:num_partitions, 1:num_jobs, 1:num_jobs], Bin)\n",
    " \n",
    "    ## Uncertainty\n",
    "\n",
    "    # One uncertain vector for each partition.\n",
    "    @uncertain(m, u[1:num_partitions, 1:num_jobs])\n",
    "    for p in 1:num_partitions\n",
    "        apply_constraints!(m, u[p, :], base)\n",
    "        apply_constraints!(m, u[p, :], partitions[p])\n",
    "    end\n",
    "\n",
    "    # Constraint on the tasks not assigned during interval t.\n",
    "    initial_jobs = jobs_not_in_interval(jobs, 1)\n",
    "    @constraint(m, z[initial_jobs] .== 0)\n",
    "    for i in 1:num_workers\n",
    "\n",
    "        # Jobs in interval 1 are static.\n",
    "        @constraint(m, x[i, initial_jobs] .== 0)\n",
    "\n",
    "        # Remaining jobs are adjustable.\n",
    "        for t in 2:num_intervals, p in 1:num_partitions\n",
    "            interval_jobs = jobs_not_in_interval(jobs, t)\n",
    "            @constraint(m, x_u[p, i, t, :][interval_jobs] .== 0)\n",
    "            @constraint(m, z_u[p, t, :][interval_jobs] .== 0)\n",
    "        end\n",
    "    end\n",
    "\n",
    "    # Objective function.\n",
    "    @objective(m, Min, r + cost_backup * sum(z[jobs_in_interval(jobs, 1)]))\n",
    "    for p in 1:num_partitions\n",
    "        @constraint(m,  r >= cost_backup * sum(sum(z_u[p, t, :][jobs_in_interval(jobs, t)] for t in 2:num_intervals)))\n",
    "    end\n",
    "\n",
    "    # Convering constraints for first stage.\n",
    "    for j in jobs_in_interval(jobs, 1)\n",
    "        @constraint(m, sum(x[i, j] for i in 1:num_workers) + z[j] == 1)\n",
    "    end\n",
    "\n",
    "    # Covering constraints for adjustable stages.\n",
    "    for t in 2:num_intervals, p in 1:num_partitions\n",
    "        for j in jobs_in_interval(jobs, t)\n",
    "            @constraint(m, sum(x_u[p, i, t, j] for i in 1:num_workers) + z_u[p, t, j] == 1)\n",
    "        end\n",
    "    end\n",
    "\n",
    "    # Constraint chaining.\n",
    "    for j in 1:num_jobs, k in 1:num_jobs, p in 1:num_partitions\n",
    "        if j != k\n",
    "            j_end = jobs[j, :END]\n",
    "            k_start = jobs[k, :START]\n",
    "            @constraint(m, - M * y_u[p, j, k] <= k_start + u[p, k] - (j_end + u[p, j]))\n",
    "            # @constraint(m, k_start + u[k] - (j_end + u[j]) <= M * (1 - y_u[j, k]))\n",
    "        end\n",
    "    end\n",
    "\n",
    "    # No clash for initial jobs with any other jobs.\n",
    "    for i in 1:num_workers\n",
    "        for j in 1:num_jobs, k in (j + 1):num_jobs, p in 1:num_partitions\n",
    "\n",
    "            # Clashes of initial jobs with other initial jobs.\n",
    "            @constraint(m, x[i, j] + x[i, k] <= 3 - (y_u[p, j, k] + y_u[p, k, j]))\n",
    "\n",
    "            # Clashes of initial jobs with adjustable jobs.\n",
    "            for t in 2:num_intervals\n",
    "                @constraint(m, x[i, j] + x_u[p, i, t, k] <= 3 - (y_u[p, j, k] + y_u[p, k, j]))\n",
    "            end\n",
    "        end\n",
    "    end\n",
    "\n",
    "    # No clash for adjustable jobs.\n",
    "    for i in 1:num_workers\n",
    "        for t in 2:num_intervals, t_bar in t:num_intervals, p in 1:num_partitions\n",
    "            for j in 1:num_jobs, k in (j + 1):num_jobs\n",
    "                @constraint(m, x_u[p, i, t, j] + x_u[p, i, t_bar, k] <= 3 - (y_u[p, j, k] + y_u[p, k, j]))\n",
    "            end\n",
    "        end\n",
    "    end\n",
    "\n",
    "    solve(m)\n",
    "    \n",
    "    return m\n",
    "end"
   ]
  },
  {
   "cell_type": "code",
   "execution_count": 89,
   "metadata": {},
   "outputs": [
    {
     "data": {
      "text/plain": [
       "solve_lower_bound_model (generic function with 1 method)"
      ]
     },
     "execution_count": 89,
     "metadata": {},
     "output_type": "execute_result"
    }
   ],
   "source": [
    "function solve_lower_bound_model(problem::Problem, points::Array{<:Number})::Model\n",
    "\n",
    "    # Get problem data.\n",
    "    num_points = length(points[:,1])\n",
    "    jobs = problem.jobs\n",
    "    num_jobs = problem.num_jobs\n",
    "    num_workers = problem.num_workers\n",
    "    num_intervals = problem.num_intervals\n",
    "    cost_backup = problem.cost_backup\n",
    "    M = problem.M\n",
    "\n",
    "    # Create model.\n",
    "    m = Model(solver=GurobiSolver(OutputFlag=0))\n",
    "\n",
    "    ### Static\n",
    "\n",
    "    # Epigraph variable.\n",
    "    @variable(m, r)\n",
    "\n",
    "    # Assignment variables for workers to jobs.\n",
    "    @variable(m, x[1:num_workers, 1:num_jobs], Bin)\n",
    "\n",
    "    # Backup agent variables.\n",
    "    @variable(m, z[1:num_jobs], Bin)\n",
    "\n",
    "    ## Adjustable\n",
    "\n",
    "    # Workers to jobs.\n",
    "    @variable(m, x_u[1:num_points,1:num_workers, 2:num_intervals, 1:num_jobs], Bin)\n",
    "\n",
    "    # Backup agents.\n",
    "    @variable(m, z_u[1:num_points, 2:num_intervals, 1:num_jobs], Bin)\n",
    "\n",
    "    # Variables to capture clashes.\n",
    "    @variable(m, y_u[1:num_points, 1:num_jobs, 1:num_jobs], Bin)\n",
    "\n",
    "    # Constraint on the tasks not assigned during interval t.\n",
    "    initial_jobs = jobs_not_in_interval(jobs, 1)\n",
    "    @constraint(m, z[initial_jobs] .== 0)\n",
    "    for i in 1:num_workers\n",
    "\n",
    "        # Jobs in interval 1 are static.\n",
    "        @constraint(m, x[i, initial_jobs] .== 0)\n",
    "\n",
    "        # Remaining jobs are adjustable.\n",
    "        for t in 2:num_intervals, p in 1:num_points\n",
    "            interval_jobs = jobs_not_in_interval(jobs, t)\n",
    "            @constraint(m, x_u[p, i, t, :][interval_jobs] .== 0)\n",
    "            @constraint(m, z_u[p, t, :][interval_jobs] .== 0)\n",
    "        end\n",
    "    end\n",
    "\n",
    "    # Objective function.\n",
    "    @objective(m, Min, r + cost_backup * sum(z[jobs_in_interval(jobs, 1)]))\n",
    "    for p in 1:num_points\n",
    "        @constraint(m,  r >= cost_backup * sum(sum(z_u[p, t, :][jobs_in_interval(jobs, t)] for t in 2:num_intervals)))\n",
    "    end\n",
    "\n",
    "    # Convering constraints for first stage.\n",
    "    for j in jobs_in_interval(jobs, 1)\n",
    "        @constraint(m, sum(x[i, j] for i in 1:num_workers) + z[j] == 1)\n",
    "    end\n",
    "\n",
    "    # Covering constraints for adjustable stages.\n",
    "    for t in 2:num_intervals, p in 1:num_points\n",
    "        for j in jobs_in_interval(jobs, t)\n",
    "            @constraint(m, sum(x_u[p, i, t, j] for i in 1:num_workers) + z_u[p, t, j] == 1)\n",
    "        end\n",
    "    end\n",
    "\n",
    "    # Constraint chaining.\n",
    "    for j in 1:num_jobs, k in 1:num_jobs, p in 1:num_points\n",
    "        if j != k\n",
    "            j_end = jobs[j, :END]\n",
    "            k_start = jobs[k, :START]\n",
    "            @constraint(m, - M * y_u[p, j, k] <= k_start + points[p, k] - (j_end + points[p, j]))\n",
    "            # @constraint(m, k_start + u[k] - (j_end + u[j]) <= M * (1 - y_u[j, k]))\n",
    "        end\n",
    "    end\n",
    "\n",
    "    # No clash for initial jobs with any other jobs.\n",
    "    for i in 1:num_workers\n",
    "        for j in 1:num_jobs, k in (j + 1):num_jobs, p in 1:num_points\n",
    "\n",
    "            # Clashes of initial jobs with other initial jobs.\n",
    "            @constraint(m, x[i, j] + x[i, k] <= 3 - (y_u[p, j, k] + y_u[p, k, j]))\n",
    "\n",
    "            # Clashes of initial jobs with adjustable jobs.\n",
    "            for t in 2:num_intervals\n",
    "                @constraint(m, x[i, j] + x_u[p, i, t, k] <= 3 - (y_u[p, j, k] + y_u[p, k, j]))\n",
    "            end\n",
    "        end\n",
    "    end\n",
    "\n",
    "    # No clash for adjustable jobs.\n",
    "    for i in 1:num_workers\n",
    "        for t in 2:num_intervals, t_bar in t:num_intervals, p in 1:num_points\n",
    "            for j in 1:num_jobs, k in (j + 1):num_jobs\n",
    "                @constraint(m, x_u[p, i, t, j] + x_u[p, i, t_bar, k] <= 3 - (y_u[p, j, k] + y_u[p, k, j]))\n",
    "            end\n",
    "        end\n",
    "    end\n",
    "\n",
    "    solve(m)\n",
    "    return m\n",
    "end"
   ]
  },
  {
   "cell_type": "code",
   "execution_count": null,
   "metadata": {},
   "outputs": [],
   "source": []
  },
  {
   "cell_type": "code",
   "execution_count": 90,
   "metadata": {},
   "outputs": [
    {
     "name": "stdout",
     "output_type": "stream",
     "text": [
      "Academic license - for non-commercial use only\n",
      "10.0\n",
      "Academic license - for non-commercial use only\n",
      "10.0\n",
      "Academic license - for non-commercial use only\n",
      "Academic license - for non-commercial use only\n",
      "Academic license - for non-commercial use only\n",
      "Academic license - for non-commercial use only\n",
      "Academic license - for non-commercial use only\n",
      "Academic license - for non-commercial use only\n",
      "Academic license - for non-commercial use only\n",
      "Academic license - for non-commercial use only\n",
      "Academic license - for non-commercial use only\n",
      "Academic license - for non-commercial use only\n",
      "10.0\n",
      "Academic license - for non-commercial use only\n",
      "10.0\n",
      "getvalue(getindex(solved, :x_u)) = x_u: 4 dimensions:\n",
      "[1,:,:,:]\n",
      "  [1,1,:,:]\n",
      "    [1,1,2,:]\n",
      "      [1,1,2,1] = 1.0\n",
      "      [1,1,2,2] = 0.0\n",
      "      [1,1,2,3] = 0.0\n",
      "  [1,2,:,:]\n",
      "    [1,2,2,:]\n",
      "      [1,2,2,1] = 0.0\n",
      "      [1,2,2,2] = 0.0\n",
      "      [1,2,2,3] = 1.0\n",
      "[2,:,:,:]\n",
      "  [2,1,:,:]\n",
      "    [2,1,2,:]\n",
      "      [2,1,2,1] = 0.0\n",
      "      [2,1,2,2] = 0.0\n",
      "      [2,1,2,3] = 1.0\n",
      "  [2,2,:,:]\n",
      "    [2,2,2,:]\n",
      "      [2,2,2,1] = 1.0\n",
      "      [2,2,2,2] = 0.0\n",
      "      [2,2,2,3] = 0.0\n",
      "getvalue(getindex(solved, :y_u)) = [0.0 1.0 1.0; 0.0 1.0 1.0]\n",
      "\n",
      "[1.0 0.0 1.0; 1.0 0.0 1.0]\n",
      "\n",
      "[1.0 1.0 0.0; 1.0 1.0 0.0]\n",
      "u[1,1] ≤ 100\n",
      "u[1,2] ≤ 100\n",
      "u[1,3] ≤ 100\n",
      "-u[1,1] ≤ 100\n",
      "-u[1,2] ≤ 100\n",
      "-u[1,3] ≤ 100\n",
      "__anon__[1] - u[1,1] ≥ 0\n",
      "__anon__[2] - u[1,2] ≥ 0\n",
      "__anon__[3] - u[1,3] ≥ 0\n",
      "__anon__[1] + u[1,1] ≥ 0\n",
      "__anon__[2] + u[1,2] ≥ 0\n",
      "__anon__[3] + u[1,3] ≥ 0\n",
      "__anon__[1] + __anon__[2] + __anon__[3] ≤ 200\n",
      "200 u[1,1] - 100 u[1,2] ≤ 5000\n",
      "u[2,1] ≤ 100\n",
      "u[2,2] ≤ 100\n",
      "u[2,3] ≤ 100\n",
      "-u[2,1] ≤ 100\n",
      "-u[2,2] ≤ 100\n",
      "-u[2,3] ≤ 100\n",
      "__anon__[1] - u[2,1] ≥ 0\n",
      "__anon__[2] - u[2,2] ≥ 0\n",
      "__anon__[3] - u[2,3] ≥ 0\n",
      "__anon__[1] + u[2,1] ≥ 0\n",
      "__anon__[2] + u[2,2] ≥ 0\n",
      "__anon__[3] + u[2,3] ≥ 0\n",
      "__anon__[1] + __anon__[2] + __anon__[3] ≤ 200\n",
      "-200 u[2,1] + 100 u[2,2] ≤ -5000\n",
      "Academic license - for non-commercial use only\n",
      "0.0\n",
      "Academic license - for non-commercial use only\n",
      "10.0\n",
      "Academic license - for non-commercial use only\n",
      "10.0\n"
     ]
    }
   ],
   "source": [
    "base = ConstraintSet()\n",
    "add_constraint!(base, GeneralConstraint(u -> u - 100))\n",
    "add_constraint!(base, GeneralConstraint(u -> -u - 100))\n",
    "add_constraint!(base, NormConstraint(1, 200))\n",
    "\n",
    "# No other constraints in the single partition to start with.\n",
    "partitions = [ConstraintSet()]\n",
    "solved = solve_partition_model(problem, base, partitions)\n",
    "println(getobjectivevalue(solved))\n",
    "\n",
    "solved = solve_partition_model(problem, base, partitions)\n",
    "println(getobjectivevalue(solved))\n",
    "\n",
    "points = basic(solved, problem, base, partitions)\n",
    "\n",
    "partitions = voronoi(points[1])\n",
    "\n",
    "stupidSolved = solve_stupid_model(problem, base, partitions)\n",
    "println(getobjectivevalue(stupidSolved))\n",
    "\n",
    "solved = solve_partition_model(problem, base, partitions)\n",
    "println(getobjectivevalue(solved))\n",
    "@show(getvalue(getindex(solved,:x_u)))\n",
    "@show(getvalue(getindex(solved,:y_u)))\n",
    "\n",
    "solved = solve_partition_modelC(problem, base, partitions)\n",
    "println(getobjectivevalue(solved))\n",
    "\n",
    "lwsolved= solve_lower_bound_model(problem,points[1])\n",
    "println(getobjectivevalue(lwsolved))\n",
    "\n",
    "partitions = [ConstraintSet()]\n",
    "solved = solve_partition_model(problem, base, partitions)\n",
    "println(getobjectivevalue(solved))"
   ]
  },
  {
   "cell_type": "code",
   "execution_count": null,
   "metadata": {},
   "outputs": [],
   "source": []
  },
  {
   "cell_type": "code",
   "execution_count": 86,
   "metadata": {},
   "outputs": [
    {
     "data": {
      "text/plain": [
       "solve_stupid_model (generic function with 1 method)"
      ]
     },
     "execution_count": 86,
     "metadata": {},
     "output_type": "execute_result"
    }
   ],
   "source": [
    "function solve_stupid_model(problem::Problem, base::ConstraintSet, partitions::Array{ConstraintSet})\n",
    "\n",
    "    # Get problem data.\n",
    "    num_partitions = length(partitions)\n",
    "    jobs = problem.jobs\n",
    "    num_jobs = problem.num_jobs\n",
    "    num_workers = problem.num_workers\n",
    "    num_intervals = problem.num_intervals\n",
    "    cost_backup = problem.cost_backup\n",
    "    M = 1000\n",
    "    jobsStart = [50,233,233]\n",
    "    jobsEnd = [150,350,350]\n",
    "\n",
    "    # Create model.\n",
    "    m = RobustModel(solver=GurobiSolver(OutputFlag=0))\n",
    "\n",
    "    ### Static\n",
    "\n",
    "    # Epigraph variable.\n",
    "    @variable(m, r)\n",
    "\n",
    "    # Assignment variables for workers to jobs.\n",
    "    @variable(m, x[1:num_workers, 1:num_jobs], Bin)\n",
    "\n",
    "    # Backup agent variables.\n",
    "    @variable(m, z[1:num_jobs], Bin)\n",
    "\n",
    "    ## Adjustable\n",
    "\n",
    "    # Workers to jobs.\n",
    "    @variable(m, x_u[1:num_partitions, 1:num_workers, 2:num_intervals, 1:num_jobs], Bin)\n",
    "\n",
    "    # Backup agents.\n",
    "    @variable(m, z_u[1:num_partitions, 2:num_intervals, 1:num_jobs], Bin)\n",
    "\n",
    "    # Variables to capture clashes.\n",
    "    @variable(m, y_u[1:num_partitions, 1:num_jobs, 1:num_jobs], Bin)\n",
    " \n",
    "    ## Uncertainty\n",
    "\n",
    "    # One uncertain vector for each partition.\n",
    "    @uncertain(m, u1[1:num_jobs])\n",
    "    @constraint(m, norm(u1,1) <= 200)\n",
    "    @constraint(m, norm(u1,Inf) <= 100)\n",
    "    #apply_constraints!(m, u1, base)\n",
    "    #apply_constraints!(m, u1, partitions[1])\n",
    "    @constraint(m, 2*u1[1] - u1[2] <=50)\n",
    "    \n",
    "    @uncertain(m, u2[1:num_jobs])\n",
    "    @constraint(m, norm(u2,1) <= 200)\n",
    "    @constraint(m, norm(u2,Inf) <= 100)\n",
    "    #apply_constraints!(m, u2, base)\n",
    "    #apply_constraints!(m, u2, partitions[2])\n",
    "    @constraint(m, -2*u1[1] + u1[2] <=-50)\n",
    "\n",
    "\n",
    "    # Constraint on the tasks not assigned during interval t.\n",
    "    initial_jobs = jobs_not_in_interval(jobs, 1)\n",
    "    @constraint(m, z[initial_jobs] .== 0)\n",
    "    for i in 1:num_workers\n",
    "\n",
    "        # Jobs in interval 1 are static.\n",
    "        @constraint(m, x[i, initial_jobs] .== 0)\n",
    "\n",
    "        # Remaining jobs are adjustable.\n",
    "        for t in 2:num_intervals, p in 1:num_partitions\n",
    "            interval_jobs = jobs_not_in_interval(jobs, t)\n",
    "            @constraint(m, x_u[p, i, t, :][interval_jobs] .== 0)\n",
    "            @constraint(m, z_u[p, t, :][interval_jobs] .== 0)\n",
    "        end\n",
    "    end\n",
    "\n",
    "    # Objective function.\n",
    "    @objective(m, Min, r + cost_backup * sum(z[j] for j in jobs_in_interval(jobs, 1)))\n",
    "    for p in 1:num_partitions\n",
    "        @constraint(m,  r >= cost_backup * sum(sum(z_u[p, t, :][jobs_in_interval(jobs, t)] for t in 2:num_intervals)))\n",
    "    end\n",
    "\n",
    "    # Convering constraints for first stage.\n",
    "    for j in jobs_in_interval(jobs, 1)\n",
    "        @constraint(m, sum(x[i, j] for i in 1:num_workers) + z[j] == 1)\n",
    "    end\n",
    "\n",
    "    # Covering constraints for adjustable stages.\n",
    "    for t in 2:num_intervals, p in 1:num_partitions\n",
    "        for j in jobs_in_interval(jobs, t)\n",
    "            @constraint(m, sum(x_u[p, i, t, j] for i in 1:num_workers) + z_u[p, t, j] == 1)\n",
    "        end\n",
    "    end\n",
    "\n",
    "    # Constraint chaining.\n",
    "    for j in 1:num_jobs, k in 1:num_jobs\n",
    "        if j != k\n",
    "            j_end = jobsEnd[j]\n",
    "            k_start = jobsStart[k]\n",
    "            @constraint(m, - M * y_u[1, j, k] <= k_start + u1[k] - (j_end + u1[j]))\n",
    "            # @constraint(m, k_start + u[k] - (j_end + u[j]) <= M * (1 - y_u[j, k]))\n",
    "        end\n",
    "    end\n",
    "    \n",
    "    # Constraint chaining.\n",
    "    for j in 1:num_jobs, k in 1:num_jobs\n",
    "        if j != k\n",
    "            j_end = jobsEnd[j]\n",
    "            k_start = jobsStart[k]\n",
    "            @constraint(m, - M * y_u[2, j, k] <= k_start + u2[k] - (j_end + u2[j]))\n",
    "            # @constraint(m, k_start + u[k] - (j_end + u[j]) <= M * (1 - y_u[j, k]))\n",
    "        end\n",
    "    end\n",
    "\n",
    "    # No clash for initial jobs with any other jobs.\n",
    "    for i in 1:num_workers\n",
    "        for j in 1:num_jobs, k in (j + 1):num_jobs, p in 1:num_partitions\n",
    "\n",
    "            # Clashes of initial jobs with other initial jobs.\n",
    "            @constraint(m, x[i, j] + x[i, k] <= 3 - (y_u[p, j, k] + y_u[p, k, j]))\n",
    "\n",
    "            # Clashes of initial jobs with adjustable jobs.\n",
    "            for t in 2:num_intervals\n",
    "                @constraint(m, x[i, j] + x_u[p, i, t, k] <= 3 - (y_u[p, j, k] + y_u[p, k, j]))\n",
    "            end\n",
    "        end\n",
    "    end\n",
    "\n",
    "    # No clash for adjustable jobs.\n",
    "    for i in 1:num_workers\n",
    "        for t in 2:num_intervals, t_bar in t:num_intervals, p in 1:num_partitions\n",
    "            for j in 1:num_jobs, k in (j + 1):num_jobs\n",
    "                @constraint(m, x_u[p, i, t, j] + x_u[p, i, t_bar, k] <= 3 - (y_u[p, j, k] + y_u[p, k, j]))\n",
    "            end\n",
    "        end\n",
    "    end\n",
    "\n",
    "    solve(m)\n",
    "    \n",
    "    return m\n",
    "end"
   ]
  },
  {
   "cell_type": "code",
   "execution_count": null,
   "metadata": {},
   "outputs": [],
   "source": []
  },
  {
   "cell_type": "code",
   "execution_count": null,
   "metadata": {},
   "outputs": [],
   "source": []
  }
 ],
 "metadata": {
  "kernelspec": {
   "display_name": "Julia 1.0.1",
   "language": "julia",
   "name": "julia-1.0"
  },
  "language_info": {
   "file_extension": ".jl",
   "mimetype": "application/julia",
   "name": "julia",
   "version": "1.0.1"
  }
 },
 "nbformat": 4,
 "nbformat_minor": 2
}
