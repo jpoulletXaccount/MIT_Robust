{
 "cells": [
  {
   "cell_type": "code",
   "execution_count": 3,
   "metadata": {},
   "outputs": [
    {
     "name": "stderr",
     "output_type": "stream",
     "text": [
      "\u001b[1m\u001b[34mINFO: Precompiling module CSV.\n",
      "\u001b[0mWARNING: Method definition describe(AbstractArray) in module StatsBase at /Users/jpoullet/.julia/v0.5/StatsBase/src/scalarstats.jl:560 overwritten in module DataFrames at /Users/jpoullet/.julia/v0.5/DataFrames/src/abstractdataframe/abstractdataframe.jl:407.\n",
      "WARNING: Method definition describe(AbstractArray) in module StatsBase at /Users/jpoullet/.julia/v0.5/StatsBase/src/scalarstats.jl:560 overwritten in module DataFrames at /Users/jpoullet/.julia/v0.5/DataFrames/src/abstractdataframe/abstractdataframe.jl:407.\n",
      "WARNING: Method definition describe(AbstractArray) in module StatsBase at /Users/jpoullet/.julia/v0.5/StatsBase/src/scalarstats.jl:560 overwritten in module DataFrames at /Users/jpoullet/.julia/v0.5/DataFrames/src/abstractdataframe/abstractdataframe.jl:407.\n",
      "WARNING: Method definition describe(AbstractArray) in module StatsBase at /Users/jpoullet/.julia/v0.5/StatsBase/src/scalarstats.jl:560 overwritten in module DataFrames at /Users/jpoullet/.julia/v0.5/DataFrames/src/abstractdataframe/abstractdataframe.jl:407.\n"
     ]
    },
    {
     "ename": "LoadError",
     "evalue": "LoadError: ArgumentError: Module LinearAlgebra not found in current path.\nRun `Pkg.add(\"LinearAlgebra\")` to install the LinearAlgebra package.\nwhile loading /Users/jpoullet/Documents/MIT/Courses/15.094 Robust optimization/RobustProject/src/read.jl, in expression starting on line 3",
     "output_type": "error",
     "traceback": [
      "LoadError: ArgumentError: Module LinearAlgebra not found in current path.\nRun `Pkg.add(\"LinearAlgebra\")` to install the LinearAlgebra package.\nwhile loading /Users/jpoullet/Documents/MIT/Courses/15.094 Robust optimization/RobustProject/src/read.jl, in expression starting on line 3",
      "",
      " in require(::Symbol) at ./loading.jl:365",
      " in require(::Symbol) at /Applications/Julia-0.5.app/Contents/Resources/julia/lib/julia/sys.dylib:?",
      " in include_from_node1(::String) at ./loading.jl:488",
      " in include_from_node1(::String) at /Applications/Julia-0.5.app/Contents/Resources/julia/lib/julia/sys.dylib:?",
      " in include_string(::String, ::String) at ./loading.jl:441",
      " in include_string(::String, ::String) at /Applications/Julia-0.5.app/Contents/Resources/julia/lib/julia/sys.dylib:?"
     ]
    }
   ],
   "source": [
    "include(\"../read.jl\")\n",
    "include(\"../constraints.jl\")\n",
    "include(\"../partitions.jl\")\n",
    "include(\"../problem.jl\")\n",
    "include(\"../active.jl\")\n",
    "\n",
    "jobs = build_jobs(\"/Users/jpoullet/Documents/MIT/Courses/15.094 Robust optimization/RobustProject/data/example.csv\", [0, 0])\n",
    "problem = Problem(jobs, 2, 10, 1e9)\n",
    "\n"
   ]
  },
  {
   "cell_type": "code",
   "execution_count": 2,
   "metadata": {},
   "outputs": [
    {
     "name": "stderr",
     "output_type": "stream",
     "text": [
      "\u001b[1m\u001b[34mINFO: Cloning cache of CSV from https://github.com/JuliaData/CSV.jl.git\n",
      "\u001b[0m\u001b[1m\u001b[34mINFO: Cloning cache of CategoricalArrays from https://github.com/JuliaData/CategoricalArrays.jl.git\n",
      "\u001b[0m\u001b[1m\u001b[34mINFO: Cloning cache of DataArrays from https://github.com/JuliaStats/DataArrays.jl.git\n",
      "\u001b[0m\u001b[1m\u001b[34mINFO: Cloning cache of DataFrames from https://github.com/JuliaData/DataFrames.jl.git\n",
      "\u001b[0m\u001b[1m\u001b[34mINFO: Cloning cache of DataStreams from https://github.com/JuliaData/DataStreams.jl.git\n",
      "\u001b[0m\u001b[1m\u001b[34mINFO: Cloning cache of DataStructures from https://github.com/JuliaCollections/DataStructures.jl.git\n",
      "\u001b[0m\u001b[1m\u001b[34mINFO: Cloning cache of FileIO from https://github.com/JuliaIO/FileIO.jl.git\n",
      "\u001b[0m\u001b[1m\u001b[34mINFO: Cloning cache of GZip from https://github.com/JuliaIO/GZip.jl.git\n",
      "\u001b[0m\u001b[1m\u001b[34mINFO: Cloning cache of NullableArrays from https://github.com/JuliaStats/NullableArrays.jl.git\n",
      "\u001b[0m\u001b[1m\u001b[34mINFO: Cloning cache of Reexport from https://github.com/simonster/Reexport.jl.git\n",
      "\u001b[0m\u001b[1m\u001b[34mINFO: Cloning cache of SortingAlgorithms from https://github.com/JuliaCollections/SortingAlgorithms.jl.git\n",
      "\u001b[0m\u001b[1m\u001b[34mINFO: Cloning cache of SpecialFunctions from https://github.com/JuliaMath/SpecialFunctions.jl.git\n",
      "\u001b[0m\u001b[1m\u001b[34mINFO: Cloning cache of StatsBase from https://github.com/JuliaStats/StatsBase.jl.git\n",
      "\u001b[0m\u001b[1m\u001b[34mINFO: Cloning cache of WeakRefStrings from https://github.com/JuliaData/WeakRefStrings.jl.git\n",
      "\u001b[0m\u001b[1m\u001b[34mINFO: Installing CSV v0.1.5\n",
      "\u001b[0m\u001b[1m\u001b[34mINFO: Installing CategoricalArrays v0.1.6\n",
      "\u001b[0m\u001b[1m\u001b[34mINFO: Installing DataArrays v0.4.1\n",
      "\u001b[0m\u001b[1m\u001b[34mINFO: Installing DataFrames v0.9.1\n",
      "\u001b[0m\u001b[1m\u001b[34mINFO: Installing DataStreams v0.1.3\n",
      "\u001b[0m\u001b[1m\u001b[34mINFO: Installing DataStructures v0.6.1\n",
      "\u001b[0m\u001b[1m\u001b[34mINFO: Installing FileIO v0.5.2\n",
      "\u001b[0m\u001b[1m\u001b[34mINFO: Installing GZip v0.3.0\n",
      "\u001b[0m\u001b[1m\u001b[34mINFO: Installing NullableArrays v0.1.2\n",
      "\u001b[0m\u001b[1m\u001b[34mINFO: Installing Reexport v0.1.0\n",
      "\u001b[0m\u001b[1m\u001b[34mINFO: Installing SortingAlgorithms v0.1.1\n",
      "\u001b[0m\u001b[1m\u001b[34mINFO: Installing SpecialFunctions v0.2.0\n",
      "\u001b[0m\u001b[1m\u001b[34mINFO: Installing StatsBase v0.17.0\n",
      "\u001b[0m\u001b[1m\u001b[34mINFO: Installing WeakRefStrings v0.2.0\n",
      "\u001b[0m\u001b[1m\u001b[34mINFO: Package database updated\n",
      "\u001b[0m"
     ]
    }
   ],
   "source": [
    "Pkg.add(\"CSV\")"
   ]
  },
  {
   "cell_type": "code",
   "execution_count": null,
   "metadata": {},
   "outputs": [],
   "source": [
    "Pkg.add(\"LinearAlgebra\")"
   ]
  },
  {
   "cell_type": "code",
   "execution_count": 9,
   "metadata": {},
   "outputs": [
    {
     "name": "stderr",
     "output_type": "stream",
     "text": [
      "\u001b[1m\u001b[34mINFO: Precompiling module JuMP.\n",
      "\u001b[0mWARNING: using Compat.>: in module JuMP conflicts with an existing identifier.\n",
      "\n",
      "WARNING: deprecated syntax \"[a=>b for (a,b) in c]\".\n",
      "Use \"Dict(a=>b for (a,b) in c)\" instead.\n",
      "\u001b[1m\u001b[34mINFO: Precompiling module Gurobi.\n",
      "\u001b[0m"
     ]
    }
   ],
   "source": [
    "using JuMP, JuMPeR, Gurobi"
   ]
  },
  {
   "cell_type": "code",
   "execution_count": 7,
   "metadata": {},
   "outputs": [
    {
     "name": "stderr",
     "output_type": "stream",
     "text": [
      "\u001b[1m\u001b[34mINFO: Cloning cache of Calculus from https://github.com/JuliaMath/Calculus.jl.git\n",
      "\u001b[0m\u001b[1m\u001b[34mINFO: Cloning cache of DiffBase from https://github.com/JuliaAttic/DiffBase.jl.git\n",
      "\u001b[0m\u001b[1m\u001b[34mINFO: Cloning cache of ForwardDiff from https://github.com/JuliaDiff/ForwardDiff.jl.git\n",
      "\u001b[0m\u001b[1m\u001b[34mINFO: Cloning cache of JuMP from https://github.com/JuliaOpt/JuMP.jl.git\n",
      "\u001b[0m\u001b[1m\u001b[34mINFO: Cloning cache of MathProgBase from https://github.com/JuliaOpt/MathProgBase.jl.git\n",
      "\u001b[0m\u001b[1m\u001b[34mINFO: Cloning cache of NaNMath from https://github.com/mlubin/NaNMath.jl.git\n",
      "\u001b[0m\u001b[1m\u001b[34mINFO: Cloning cache of ReverseDiffSparse from https://github.com/mlubin/ReverseDiffSparse.jl.git\n",
      "\u001b[0m\u001b[1m\u001b[34mINFO: Installing Calculus v0.2.2\n",
      "\u001b[0m\u001b[1m\u001b[34mINFO: Installing DiffBase v0.1.0\n",
      "\u001b[0m\u001b[1m\u001b[34mINFO: Installing ForwardDiff v0.4.2\n",
      "\u001b[0m\u001b[1m\u001b[34mINFO: Installing JuMP v0.17.1\n",
      "\u001b[0m\u001b[1m\u001b[34mINFO: Installing MathProgBase v0.6.4\n",
      "\u001b[0m\u001b[1m\u001b[34mINFO: Installing NaNMath v0.2.6\n",
      "\u001b[0m\u001b[1m\u001b[34mINFO: Installing ReverseDiffSparse v0.7.3\n",
      "\u001b[0m\u001b[1m\u001b[34mINFO: Package database updated\n",
      "\u001b[0m"
     ]
    }
   ],
   "source": [
    "Pkg.add(\"JuMP\")\n"
   ]
  },
  {
   "cell_type": "code",
   "execution_count": 8,
   "metadata": {
    "scrolled": true
   },
   "outputs": [
    {
     "name": "stderr",
     "output_type": "stream",
     "text": [
      "\u001b[1m\u001b[34mINFO: Cloning cache of JuMPeR from https://github.com/IainNZ/JuMPeR.jl.git\n",
      "\u001b[0m\u001b[1m\u001b[34mINFO: Cloning cache of Lazy from https://github.com/MikeInnes/Lazy.jl.git\n",
      "\u001b[0m\u001b[1m\u001b[34mINFO: Cloning cache of MacroTools from https://github.com/MikeInnes/MacroTools.jl.git\n",
      "\u001b[0m\u001b[1m\u001b[34mINFO: Downgrading ForwardDiff: v0.4.2 => v0.2.5\n",
      "\u001b[0m\u001b[1m\u001b[34mINFO: Downgrading JuMP: v0.17.1 => v0.14.2\n",
      "\u001b[0m\u001b[1m\u001b[34mINFO: Installing JuMPeR v0.5.0\n",
      "\u001b[0m\u001b[1m\u001b[34mINFO: Installing Lazy v0.11.7\n",
      "\u001b[0m\u001b[1m\u001b[34mINFO: Installing MacroTools v0.3.7\n",
      "\u001b[0m\u001b[1m\u001b[34mINFO: Downgrading MathProgBase: v0.6.4 => v0.5.10\n",
      "\u001b[0m\u001b[1m\u001b[34mINFO: Downgrading ReverseDiffSparse: v0.7.3 => v0.5.8\n",
      "\u001b[0m\u001b[1m\u001b[34mINFO: Package database updated\n",
      "\u001b[0m\u001b[1m\u001b[34mINFO: Cloning cache of Gurobi from https://github.com/JuliaOpt/Gurobi.jl.git\n",
      "\u001b[0m\u001b[1m\u001b[34mINFO: Installing Gurobi v0.3.3\n",
      "\u001b[0m\u001b[1m\u001b[34mINFO: Building Gurobi\n",
      "\u001b[0m\u001b[1m\u001b[34mINFO: Package database updated\n",
      "\u001b[0m"
     ]
    }
   ],
   "source": [
    "Pkg.add(\"JuMPeR\")\n",
    "Pkg.add(\"Gurobi\")"
   ]
  },
  {
   "cell_type": "code",
   "execution_count": 26,
   "metadata": {},
   "outputs": [
    {
     "name": "stderr",
     "output_type": "stream",
     "text": [
      "WARNING: Method definition solve_stupid_model() in module Main at In[24]:4 overwritten at In[26]:4.\n"
     ]
    },
    {
     "data": {
      "text/plain": [
       "solve_stupid_model (generic function with 1 method)"
      ]
     },
     "execution_count": 26,
     "metadata": {},
     "output_type": "execute_result"
    }
   ],
   "source": [
    "function solve_stupid_model()\n",
    "\n",
    "    # Get problem data.\n",
    "    num_partitions = 2\n",
    "    jobsStart = [50,233,233]\n",
    "    jobsEnd = [150,350,350]\n",
    "    num_jobs = 3\n",
    "    num_workers = 2\n",
    "    num_intervals = 2\n",
    "    cost_backup = 10\n",
    "    M = 10000\n",
    "\n",
    "    # Create model.\n",
    "    m = RobustModel(solver=GurobiSolver(OutputFlag=0))\n",
    "\n",
    "    ### Static\n",
    "\n",
    "    # Epigraph variable.\n",
    "    @variable(m, r)\n",
    "\n",
    "    # Assignment variables for workers to jobs.\n",
    "    @variable(m, x[1:num_workers, 1:num_jobs], Bin)\n",
    "\n",
    "    # Backup agent variables.\n",
    "    @variable(m, z[1:num_jobs], Bin)\n",
    "\n",
    "    ## Adjustable\n",
    "\n",
    "    # Workers to jobs.\n",
    "    @variable(m, x_u[1:num_partitions, 1:num_workers, 2:num_intervals, 1:num_jobs], Bin)\n",
    "\n",
    "    # Backup agents.\n",
    "    @variable(m, z_u[1:num_partitions, 2:num_intervals, 1:num_jobs], Bin)\n",
    "\n",
    "    # Variables to capture clashes.\n",
    "    @variable(m, y_u[1:num_partitions, 1:num_jobs, 1:num_jobs], Bin)\n",
    " \n",
    "    ## Uncertainty\n",
    "\n",
    "    # One uncertain vector for each partition.\n",
    "    @uncertain(m, u1[1:num_jobs])\n",
    "    @constraint(m, norm(u1,1) <= 200)\n",
    "    @constraint(m, norm(u1,Inf) <= 100)\n",
    "    #apply_constraints!(m, u1, base)\n",
    "    #apply_constraints!(m, u1, partitions[1])\n",
    "    @constraint(m, 2*u1[1] - u1[2] <=50)\n",
    "    \n",
    "    @uncertain(m, u2[1:num_jobs])\n",
    "    @constraint(m, norm(u2,1) <= 200)\n",
    "    @constraint(m, norm(u2,Inf) <= 100)\n",
    "    #apply_constraints!(m, u2, base)\n",
    "    #apply_constraints!(m, u2, partitions[2])\n",
    "    @constraint(m, -2*u1[1] + u1[2] <=-50)\n",
    "\n",
    "\n",
    "    # Constraint on the tasks not assigned during interval t.\n",
    "    initial_jobs = [1,2,3]\n",
    "    @constraint(m, z[initial_jobs] .== 0)\n",
    "    for i in 1:num_workers\n",
    "\n",
    "        # Jobs in interval 1 are static.\n",
    "        @constraint(m, x[i, initial_jobs] .== 0)\n",
    "\n",
    "        # Remaining jobs are adjustable.\n",
    "        for t in 2:num_intervals, p in 1:num_partitions\n",
    "            interval_jobs = [1]\n",
    "            #@constraint(m, x_u[p, i, t, :][interval_jobs] .== 0)\n",
    "            #@constraint(m, z_u[p, t, :][interval_jobs] .== 0)\n",
    "        end\n",
    "    end\n",
    "\n",
    "    # Objective function.\n",
    "    @objective(m, Min, r)\n",
    "    for p in 1:num_partitions\n",
    "        @constraint(m,  r >= cost_backup * sum(z_u[p, 2, 2] + z_u[p, 2, 3]+z_u[p, 2, 1]))\n",
    "    end\n",
    "\n",
    "    # Convering constraints for first stage.\n",
    "    for j in [1]\n",
    "        #@constraint(m, sum(x[i, j] for i in 1:num_workers) + z[j] == 1)\n",
    "    end\n",
    "\n",
    "    # Covering constraints for adjustable stages.\n",
    "    for t in 2:num_intervals, p in 1:num_partitions\n",
    "        for j in [1,2,3]\n",
    "            @constraint(m, sum(x_u[p, i, t, j] for i in 1:num_workers) + z_u[p, t, j] == 1)\n",
    "        end\n",
    "    end\n",
    "\n",
    "    # Constraint chaining.\n",
    "    for j in 1:num_jobs, k in 1:num_jobs\n",
    "        if j != k\n",
    "            j_end = jobsEnd[j]\n",
    "            k_start = jobsStart[k]\n",
    "            @constraint(m, - M * y_u[1, j, k] <= k_start + u1[k] - (j_end + u1[j]))\n",
    "            # @constraint(m, k_start + u[k] - (j_end + u[j]) <= M * (1 - y_u[j, k]))\n",
    "        end\n",
    "    end\n",
    "    \n",
    "    # Constraint chaining.\n",
    "    for j in 1:num_jobs, k in 1:num_jobs\n",
    "        if j != k\n",
    "            j_end = jobsEnd[j]\n",
    "            k_start = jobsStart[k]\n",
    "            @constraint(m, - M * y_u[2, j, k] <= k_start + u2[k] - (j_end + u2[j]))\n",
    "            # @constraint(m, k_start + u[k] - (j_end + u[j]) <= M * (1 - y_u[j, k]))\n",
    "        end\n",
    "    end\n",
    "\n",
    "    # No clash for initial jobs with any other jobs.\n",
    "    for i in 1:num_workers\n",
    "        for j in 1:num_jobs, k in (j + 1):num_jobs, p in 1:num_partitions\n",
    "\n",
    "            # Clashes of initial jobs with other initial jobs.\n",
    "            @constraint(m, x[i, j] + x[i, k] <= 3 - (y_u[p, j, k] + y_u[p, k, j]))\n",
    "\n",
    "            # Clashes of initial jobs with adjustable jobs.\n",
    "            for t in 2:num_intervals\n",
    "                @constraint(m, x[i, j] + x_u[p, i, t, k] <= 3 - (y_u[p, j, k] + y_u[p, k, j]))\n",
    "            end\n",
    "        end\n",
    "    end\n",
    "\n",
    "    # No clash for adjustable jobs.\n",
    "    for i in 1:num_workers\n",
    "        for t in 2:num_intervals, t_bar in t:num_intervals, p in 1:num_partitions\n",
    "            for j in 1:num_jobs, k in (j + 1):num_jobs\n",
    "                @constraint(m, x_u[p, i, t, j] + x_u[p, i, t_bar, k] <= 3 - (y_u[p, j, k] + y_u[p, k, j]))\n",
    "            end\n",
    "        end\n",
    "    end\n",
    "\n",
    "    solve(m)\n",
    "    @show(getvalue(x_u))\n",
    "    @show(getvalue(y_u))\n",
    "    return m\n",
    "end"
   ]
  },
  {
   "cell_type": "code",
   "execution_count": 27,
   "metadata": {},
   "outputs": [
    {
     "name": "stdout",
     "output_type": "stream",
     "text": [
      "Academic license - for non-commercial use only\n",
      "getvalue(x_u) = x_u: 4 dimensions:\n",
      "[1,:,:,:]\n",
      "  [1,1,:,:]\n",
      "    [1,1,2,:]\n",
      "      [1,1,2,1] = 0.0\n",
      "      [1,1,2,2] = 0.0\n",
      "      [1,1,2,3] = 1.0\n",
      "  [1,2,:,:]\n",
      "    [1,2,2,:]\n",
      "      [1,2,2,1] = 1.0\n",
      "      [1,2,2,2] = 1.0\n",
      "      [1,2,2,3] = 0.0\n",
      "[2,:,:,:]\n",
      "  [2,1,:,:]\n",
      "    [2,1,2,:]\n",
      "      [2,1,2,1] = 0.0\n",
      "      [2,1,2,2] = 1.0\n",
      "      [2,1,2,3] = 0.0\n",
      "  [2,2,:,:]\n",
      "    [2,2,2,:]\n",
      "      [2,2,2,1] = 0.0\n",
      "      [2,2,2,2] = 0.0\n",
      "      [2,2,2,3] = 1.0\n",
      "\n",
      "getvalue(y_u) = [0.0 1.0 1.0; 0.0 1.0 1.0]\n",
      "\n",
      "[0.0 0.0 1.0; 1.0 0.0 1.0]\n",
      "\n",
      "[1.0 1.0 0.0; 1.0 1.0 0.0]\n",
      "10.0\n"
     ]
    }
   ],
   "source": [
    "solved = solve_stupid_model()\n",
    "println(getobjectivevalue(solved))\n"
   ]
  },
  {
   "cell_type": "code",
   "execution_count": null,
   "metadata": {},
   "outputs": [],
   "source": []
  }
 ],
 "metadata": {
  "kernelspec": {
   "display_name": "Julia 0.5.2",
   "language": "julia",
   "name": "julia-0.5"
  },
  "language_info": {
   "file_extension": ".jl",
   "mimetype": "application/julia",
   "name": "julia",
   "version": "0.5.2"
  }
 },
 "nbformat": 4,
 "nbformat_minor": 2
}
